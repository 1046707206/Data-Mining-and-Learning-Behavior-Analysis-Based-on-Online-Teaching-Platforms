{
 "cells": [
  {
   "cell_type": "code",
   "execution_count": 1,
   "metadata": {},
   "outputs": [],
   "source": [
    "#引入库\n",
    "import pandas as pd\n",
    "import numpy as np\n",
    "import datetime\n",
    "import time\n",
    "import matplotlib\n",
    "matplotlib.rcParams['font.sans-serif'] = ['Arial Unicode MS']\n",
    "matplotlib.rcParams['axes.unicode_minus']=False\n",
    "\n",
    "import matplotlib.pyplot as plt\n",
    "import seaborn as sns\n",
    "import sklearn\n",
    "from sklearn.preprocessing import LabelEncoder\n",
    "np.set_printoptions(suppress=True)\n",
    "pd.set_option('display.float_format', lambda x: '%.4f' % x)\n",
    "plt.rcParams['font.sans-serif']=['simhei']\n",
    "plt.rcParams['font.serif'] = ['simhei']\n",
    "\n",
    "import warnings\n",
    "warnings.filterwarnings('ignore')\n",
    "from matplotlib.font_manager import FontProperties\n",
    "myfont=FontProperties(fname=r'C:\\Windows\\Fonts\\SimHei.ttf',size=12)\n",
    "sns.set(font=myfont.get_name())"
   ]
  },
  {
   "cell_type": "code",
   "execution_count": 2,
   "metadata": {},
   "outputs": [],
   "source": [
    "#数据读取，并打印前4行\n",
    "df = pd.read_csv('信息感知维度.csv')"
   ]
  },
  {
   "cell_type": "code",
   "execution_count": 3,
   "metadata": {},
   "outputs": [
    {
     "name": "stdout",
     "output_type": "stream",
     "text": [
      "personid      False\n",
      "score         False\n",
      "post_views    False\n",
      "dtype: bool\n"
     ]
    }
   ],
   "source": [
    "#数据处理：缺失值检查,false即表示无缺失值,若对行处理则令axis=1\n",
    "print(df.isnull().any())"
   ]
  },
  {
   "cell_type": "code",
   "execution_count": 4,
   "metadata": {},
   "outputs": [
    {
     "data": {
      "text/plain": [
       "0"
      ]
     },
     "execution_count": 4,
     "metadata": {},
     "output_type": "execute_result"
    }
   ],
   "source": [
    "#数据处理：去除重复值,使用drop_duplicates函数，输出为重复值数\n",
    "df.duplicated().sum()"
   ]
  },
  {
   "cell_type": "code",
   "execution_count": 5,
   "metadata": {},
   "outputs": [
    {
     "data": {
      "text/html": [
       "<div>\n",
       "<style scoped>\n",
       "    .dataframe tbody tr th:only-of-type {\n",
       "        vertical-align: middle;\n",
       "    }\n",
       "\n",
       "    .dataframe tbody tr th {\n",
       "        vertical-align: top;\n",
       "    }\n",
       "\n",
       "    .dataframe thead th {\n",
       "        text-align: right;\n",
       "    }\n",
       "</style>\n",
       "<table border=\"1\" class=\"dataframe\">\n",
       "  <thead>\n",
       "    <tr style=\"text-align: right;\">\n",
       "      <th></th>\n",
       "      <th>count</th>\n",
       "      <th>mean</th>\n",
       "      <th>std</th>\n",
       "      <th>min</th>\n",
       "      <th>25%</th>\n",
       "      <th>50%</th>\n",
       "      <th>75%</th>\n",
       "      <th>max</th>\n",
       "    </tr>\n",
       "  </thead>\n",
       "  <tbody>\n",
       "    <tr>\n",
       "      <th>personid</th>\n",
       "      <td>243.0000</td>\n",
       "      <td>129480950.0700</td>\n",
       "      <td>25868008.7015</td>\n",
       "      <td>51455892.0000</td>\n",
       "      <td>111945908.0000</td>\n",
       "      <td>111948913.0000</td>\n",
       "      <td>147388816.5000</td>\n",
       "      <td>197263536.0000</td>\n",
       "    </tr>\n",
       "    <tr>\n",
       "      <th>score</th>\n",
       "      <td>243.0000</td>\n",
       "      <td>48.7458</td>\n",
       "      <td>23.7102</td>\n",
       "      <td>0.0300</td>\n",
       "      <td>41.8750</td>\n",
       "      <td>51.5600</td>\n",
       "      <td>59.6750</td>\n",
       "      <td>92.7200</td>\n",
       "    </tr>\n",
       "    <tr>\n",
       "      <th>post_views</th>\n",
       "      <td>243.0000</td>\n",
       "      <td>8.9506</td>\n",
       "      <td>4.7174</td>\n",
       "      <td>0.0000</td>\n",
       "      <td>5.0000</td>\n",
       "      <td>10.0000</td>\n",
       "      <td>11.0000</td>\n",
       "      <td>20.0000</td>\n",
       "    </tr>\n",
       "  </tbody>\n",
       "</table>\n",
       "</div>"
      ],
      "text/plain": [
       "              count           mean           std           min            25%  \\\n",
       "personid   243.0000 129480950.0700 25868008.7015 51455892.0000 111945908.0000   \n",
       "score      243.0000        48.7458       23.7102        0.0300        41.8750   \n",
       "post_views 243.0000         8.9506        4.7174        0.0000         5.0000   \n",
       "\n",
       "                      50%            75%            max  \n",
       "personid   111948913.0000 147388816.5000 197263536.0000  \n",
       "score             51.5600        59.6750        92.7200  \n",
       "post_views        10.0000        11.0000        20.0000  "
      ]
     },
     "execution_count": 5,
     "metadata": {},
     "output_type": "execute_result"
    }
   ],
   "source": [
    "#基于pyspark的数据统计分析，此处仅使用描述分析与频率统计\n",
    "#mean()函数或describe()函数对均值进行描述统计.T表示矩阵逆置，行输出\n",
    "df.describe().T"
   ]
  },
  {
   "cell_type": "code",
   "execution_count": 6,
   "metadata": {},
   "outputs": [
    {
     "data": {
      "text/html": [
       "<div>\n",
       "<style scoped>\n",
       "    .dataframe tbody tr th:only-of-type {\n",
       "        vertical-align: middle;\n",
       "    }\n",
       "\n",
       "    .dataframe tbody tr th {\n",
       "        vertical-align: top;\n",
       "    }\n",
       "\n",
       "    .dataframe thead th {\n",
       "        text-align: right;\n",
       "    }\n",
       "</style>\n",
       "<table border=\"1\" class=\"dataframe\">\n",
       "  <thead>\n",
       "    <tr style=\"text-align: right;\">\n",
       "      <th></th>\n",
       "      <th>学生编号</th>\n",
       "      <th>分数</th>\n",
       "      <th>帖子浏览次数</th>\n",
       "    </tr>\n",
       "  </thead>\n",
       "  <tbody>\n",
       "    <tr>\n",
       "      <th>0</th>\n",
       "      <td>51455892</td>\n",
       "      <td>59.9000</td>\n",
       "      <td>1</td>\n",
       "    </tr>\n",
       "    <tr>\n",
       "      <th>1</th>\n",
       "      <td>51466294</td>\n",
       "      <td>70.6100</td>\n",
       "      <td>2</td>\n",
       "    </tr>\n",
       "    <tr>\n",
       "      <th>2</th>\n",
       "      <td>67695313</td>\n",
       "      <td>75.1600</td>\n",
       "      <td>3</td>\n",
       "    </tr>\n",
       "    <tr>\n",
       "      <th>3</th>\n",
       "      <td>67697725</td>\n",
       "      <td>78.5400</td>\n",
       "      <td>2</td>\n",
       "    </tr>\n",
       "    <tr>\n",
       "      <th>4</th>\n",
       "      <td>68286748</td>\n",
       "      <td>47.9200</td>\n",
       "      <td>2</td>\n",
       "    </tr>\n",
       "    <tr>\n",
       "      <th>...</th>\n",
       "      <td>...</td>\n",
       "      <td>...</td>\n",
       "      <td>...</td>\n",
       "    </tr>\n",
       "    <tr>\n",
       "      <th>238</th>\n",
       "      <td>197259586</td>\n",
       "      <td>88.8800</td>\n",
       "      <td>5</td>\n",
       "    </tr>\n",
       "    <tr>\n",
       "      <th>239</th>\n",
       "      <td>197259971</td>\n",
       "      <td>90.8600</td>\n",
       "      <td>7</td>\n",
       "    </tr>\n",
       "    <tr>\n",
       "      <th>240</th>\n",
       "      <td>197261324</td>\n",
       "      <td>90.1600</td>\n",
       "      <td>7</td>\n",
       "    </tr>\n",
       "    <tr>\n",
       "      <th>241</th>\n",
       "      <td>197261517</td>\n",
       "      <td>92.2100</td>\n",
       "      <td>8</td>\n",
       "    </tr>\n",
       "    <tr>\n",
       "      <th>242</th>\n",
       "      <td>197263536</td>\n",
       "      <td>91.6000</td>\n",
       "      <td>6</td>\n",
       "    </tr>\n",
       "  </tbody>\n",
       "</table>\n",
       "<p>243 rows × 3 columns</p>\n",
       "</div>"
      ],
      "text/plain": [
       "          学生编号      分数  帖子浏览次数\n",
       "0     51455892 59.9000       1\n",
       "1     51466294 70.6100       2\n",
       "2     67695313 75.1600       3\n",
       "3     67697725 78.5400       2\n",
       "4     68286748 47.9200       2\n",
       "..         ...     ...     ...\n",
       "238  197259586 88.8800       5\n",
       "239  197259971 90.8600       7\n",
       "240  197261324 90.1600       7\n",
       "241  197261517 92.2100       8\n",
       "242  197263536 91.6000       6\n",
       "\n",
       "[243 rows x 3 columns]"
      ]
     },
     "execution_count": 6,
     "metadata": {},
     "output_type": "execute_result"
    }
   ],
   "source": [
    "#rename，更改列名以方便可视化展现\n",
    "df.rename(columns={'personid':'学生编号','score':'分数','post_views':'帖子浏览次数'},inplace=True)\n",
    "df"
   ]
  },
  {
   "cell_type": "code",
   "execution_count": 7,
   "metadata": {},
   "outputs": [
    {
     "data": {
      "image/png": "[encoded data removed]",
      "text/plain": [
       "<Figure size 432x288 with 1 Axes>"
      ]
     },
     "metadata": {},
     "output_type": "display_data"
    }
   ],
   "source": [
    "sns.distplot(df[\"帖子浏览次数\"],kde=False)\n",
    "plt.show()"
   ]
  },
  {
   "cell_type": "code",
   "execution_count": 8,
   "metadata": {},
   "outputs": [
    {
     "data": {
      "image/png": "[encoded data removed]",
      "text/plain": [
       "<Figure size 432x288 with 1 Axes>"
      ]
     },
     "metadata": {},
     "output_type": "display_data"
    }
   ],
   "source": [
    "d1 = df['帖子浏览次数']\n",
    "# 横坐标，显示均值\n",
    "plt.boxplot(d1,patch_artist=True,labels=['帖子浏览次数'])\n",
    "plt.show()"
   ]
  },
  {
   "cell_type": "code",
   "execution_count": 9,
   "metadata": {},
   "outputs": [
    {
     "data": {
      "text/html": [
       "<div>\n",
       "<style scoped>\n",
       "    .dataframe tbody tr th:only-of-type {\n",
       "        vertical-align: middle;\n",
       "    }\n",
       "\n",
       "    .dataframe tbody tr th {\n",
       "        vertical-align: top;\n",
       "    }\n",
       "\n",
       "    .dataframe thead th {\n",
       "        text-align: right;\n",
       "    }\n",
       "</style>\n",
       "<table border=\"1\" class=\"dataframe\">\n",
       "  <thead>\n",
       "    <tr style=\"text-align: right;\">\n",
       "      <th></th>\n",
       "      <th>学生编号</th>\n",
       "      <th>分数</th>\n",
       "      <th>帖子浏览次数</th>\n",
       "    </tr>\n",
       "  </thead>\n",
       "  <tbody>\n",
       "    <tr>\n",
       "      <th>2</th>\n",
       "      <td>67695313</td>\n",
       "      <td>75.1600</td>\n",
       "      <td>3</td>\n",
       "    </tr>\n",
       "    <tr>\n",
       "      <th>3</th>\n",
       "      <td>67697725</td>\n",
       "      <td>78.5400</td>\n",
       "      <td>2</td>\n",
       "    </tr>\n",
       "    <tr>\n",
       "      <th>4</th>\n",
       "      <td>68286748</td>\n",
       "      <td>47.9200</td>\n",
       "      <td>2</td>\n",
       "    </tr>\n",
       "    <tr>\n",
       "      <th>5</th>\n",
       "      <td>73095160</td>\n",
       "      <td>39.4500</td>\n",
       "      <td>2</td>\n",
       "    </tr>\n",
       "    <tr>\n",
       "      <th>6</th>\n",
       "      <td>98289131</td>\n",
       "      <td>77.1600</td>\n",
       "      <td>1</td>\n",
       "    </tr>\n",
       "    <tr>\n",
       "      <th>...</th>\n",
       "      <td>...</td>\n",
       "      <td>...</td>\n",
       "      <td>...</td>\n",
       "    </tr>\n",
       "    <tr>\n",
       "      <th>224</th>\n",
       "      <td>147393726</td>\n",
       "      <td>54.4600</td>\n",
       "      <td>10</td>\n",
       "    </tr>\n",
       "    <tr>\n",
       "      <th>225</th>\n",
       "      <td>147393731</td>\n",
       "      <td>51.4900</td>\n",
       "      <td>11</td>\n",
       "    </tr>\n",
       "    <tr>\n",
       "      <th>226</th>\n",
       "      <td>147393768</td>\n",
       "      <td>52.8900</td>\n",
       "      <td>10</td>\n",
       "    </tr>\n",
       "    <tr>\n",
       "      <th>227</th>\n",
       "      <td>147393863</td>\n",
       "      <td>24.8200</td>\n",
       "      <td>5</td>\n",
       "    </tr>\n",
       "    <tr>\n",
       "      <th>228</th>\n",
       "      <td>153867160</td>\n",
       "      <td>54.9700</td>\n",
       "      <td>11</td>\n",
       "    </tr>\n",
       "  </tbody>\n",
       "</table>\n",
       "<p>197 rows × 3 columns</p>\n",
       "</div>"
      ],
      "text/plain": [
       "          学生编号      分数  帖子浏览次数\n",
       "2     67695313 75.1600       3\n",
       "3     67697725 78.5400       2\n",
       "4     68286748 47.9200       2\n",
       "5     73095160 39.4500       2\n",
       "6     98289131 77.1600       1\n",
       "..         ...     ...     ...\n",
       "224  147393726 54.4600      10\n",
       "225  147393731 51.4900      11\n",
       "226  147393768 52.8900      10\n",
       "227  147393863 24.8200       5\n",
       "228  153867160 54.9700      11\n",
       "\n",
       "[197 rows x 3 columns]"
      ]
     },
     "execution_count": 9,
     "metadata": {},
     "output_type": "execute_result"
    }
   ],
   "source": [
    "# 箱型图判断异常点\n",
    "def box_outlier(data):\n",
    "    df = data.copy(deep=True)\n",
    "    out_index = []\n",
    "    for col in df.columns:             # 对每一列分别用箱型图进行判断\n",
    "        Q1 = df[col].quantile(q=0.25)       # 下四分位\n",
    "        Q3 = df[col].quantile(q=0.75)       # 上四分位\n",
    "        low_whisker = Q1 - 1.5 * (Q3 - Q1)  # 下边缘\n",
    "        up_whisker = Q3 + 1.5 * (Q3 - Q1)   # 上边缘\n",
    "        \n",
    "        # 寻找异常点,获得异常点索引值，删除索引值所在行数据\n",
    "        rule = (df[col] > up_whisker) | (df[col] < low_whisker)  \n",
    "        out = df[col].index[rule]\n",
    "        out_index += out.tolist()  \n",
    "    df.drop(out_index, inplace=True)\n",
    "    return df\n",
    "\n",
    "df_clean = box_outlier(df)\n",
    "df_clean"
   ]
  },
  {
   "cell_type": "code",
   "execution_count": 10,
   "metadata": {},
   "outputs": [
    {
     "data": {
      "image/png": "[encoded data removed]",
      "text/plain": [
       "<Figure size 432x288 with 1 Axes>"
      ]
     },
     "metadata": {},
     "output_type": "display_data"
    }
   ],
   "source": [
    "d1_clean = df_clean['帖子浏览次数']\n",
    "# 横坐标，显示均值\n",
    "plt.boxplot(d1_clean,patch_artist=True,labels=['帖子浏览次数'])\n",
    "plt.show()"
   ]
  },
  {
   "cell_type": "code",
   "execution_count": 16,
   "metadata": {},
   "outputs": [
    {
     "data": {
      "image/png": "[encoded data removed]",
      "text/plain": [
       "<Figure size 432x288 with 1 Axes>"
      ]
     },
     "metadata": {},
     "output_type": "display_data"
    }
   ],
   "source": [
    "# 单变量分布直方图\n",
    "# kde核密度走势图，rug胡须下线，线越多表示数量越密\n",
    "sns.distplot(df_clean[\"帖子浏览次数\"],kde = True,label = '频率')\n",
    "plt.show()"
   ]
  },
  {
   "cell_type": "code",
   "execution_count": 17,
   "metadata": {},
   "outputs": [
    {
     "data": {
      "text/plain": [
       "<matplotlib.axes._subplots.AxesSubplot at 0x19a576c38d0>"
      ]
     },
     "execution_count": 17,
     "metadata": {},
     "output_type": "execute_result"
    },
    {
     "data": {
      "image/png": "[encoded data removed]",
      "text/plain": [
       "<Figure size 432x288 with 1 Axes>"
      ]
     },
     "metadata": {},
     "output_type": "display_data"
    }
   ],
   "source": [
    "# 线性回归关系图\n",
    "sns.regplot(x='分数',y='帖子浏览次数',data=df_clean,scatter_kws={'marker':'.','s':30},line_kws={'color':'b'})"
   ]
  },
  {
   "cell_type": "code",
   "execution_count": null,
   "metadata": {},
   "outputs": [],
   "source": [
    "# 将col列按照前50%和后50%拆分成before和after两个DataFrame\n",
    "col_sorted = df_clean.sort_values(by='帖子浏览次数')\n",
    "col_split_idx = int(col_sorted.shape[0] / 2)\n",
    "before_df = col_sorted.iloc[:col_split_idx]\n",
    "after_df = col_sorted.iloc[col_split_idx:]\n",
    "\n",
    "# 输出before和after的x和y到txt文件\n",
    "with open('信息感知_散点图.txt','w') as f:\n",
    "    # 输出before型\n",
    "    before_x = before_df['帖子浏览次数'].tolist()\n",
    "    before_y = before_df['分数'].tolist()\n",
    "    before_json = {\n",
    "        \"dimensions\": [\"直觉型\"],\n",
    "        \"source\": [[x, y] for x, y in zip(before_x, before_y)]\n",
    "    }\n",
    "    f.write(str(before_json) + '\\n')\n",
    "\n",
    "    # 输出after型\n",
    "    after_x = after_df['帖子浏览次数'].tolist()\n",
    "    after_y = after_df['分数'].tolist()\n",
    "    after_json = {\n",
    "        \"dimensions\": [\"感悟型\"],\n",
    "        \"source\": [[x, y] for x, y in zip(after_x, after_y)]\n",
    "    }\n",
    "    f.write(str(after_json) + '\\n')\n"
   ]
  }
 ],
 "metadata": {
  "kernelspec": {
   "display_name": "Python 3",
   "language": "python",
   "name": "python3"
  },
  "language_info": {
   "codemirror_mode": {
    "name": "ipython",
    "version": 3
   },
   "file_extension": ".py",
   "mimetype": "text/x-python",
   "name": "python",
   "nbconvert_exporter": "python",
   "pygments_lexer": "ipython3",
   "version": "3.6.5"
  }
 },
 "nbformat": 4,
 "nbformat_minor": 2
}
